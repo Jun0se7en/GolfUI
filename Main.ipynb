{
 "cells": [
  {
   "cell_type": "code",
   "execution_count": 11,
   "id": "7bace8de-4a63-4767-9a05-08f26c26019d",
   "metadata": {},
   "outputs": [],
   "source": [
    "import os\n",
    "import pandas as pd\n",
    "import numpy as np\n",
    "import time"
   ]
  },
  {
   "cell_type": "code",
   "execution_count": 21,
   "id": "cbdf7558-db19-4d65-8d30-efbabcc9c83e",
   "metadata": {},
   "outputs": [],
   "source": [
    "def manhattan_distance(a, b):\n",
    "    return np.sum(np.abs(a - b), axis=1)"
   ]
  },
  {
   "cell_type": "code",
   "execution_count": 22,
   "id": "e9dc949f-7b43-4cee-b4dd-051bf8c7af41",
   "metadata": {},
   "outputs": [],
   "source": [
    "def compute_distances(point, array):\n",
    "    start_time = time.time()\n",
    "    distances = manhattan_distance(array, point)\n",
    "    end_time = time.time()\n",
    "    print(f\"Time taken: {end_time - start_time} seconds\")\n",
    "    return distances"
   ]
  },
  {
   "cell_type": "code",
   "execution_count": 23,
   "id": "6dd5b758-357d-42f1-8e83-da9b2935d1cd",
   "metadata": {},
   "outputs": [],
   "source": [
    "df = pd.read_csv('./route_points.csv')\n",
    "a = df.values"
   ]
  },
  {
   "cell_type": "code",
   "execution_count": 24,
   "id": "4ea37f58-f480-49ff-b662-0f163fe83184",
   "metadata": {},
   "outputs": [],
   "source": [
    "point = [10.86971, 106.80231]"
   ]
  },
  {
   "cell_type": "code",
   "execution_count": 25,
   "id": "3c86ca47-3f35-459e-9750-94d9dd37a246",
   "metadata": {},
   "outputs": [
    {
     "name": "stdout",
     "output_type": "stream",
     "text": [
      "Time taken: 0.0 seconds\n"
     ]
    }
   ],
   "source": [
    "distances = compute_distances(point, a)"
   ]
  },
  {
   "cell_type": "code",
   "execution_count": 28,
   "id": "d2b7f1f2-bac5-423a-b7b8-d572a86ecc67",
   "metadata": {},
   "outputs": [
    {
     "data": {
      "text/plain": [
       "array([ 10.86971143, 106.80232   ])"
      ]
     },
     "execution_count": 28,
     "metadata": {},
     "output_type": "execute_result"
    }
   ],
   "source": [
    "a[np.argmin(distances)]"
   ]
  },
  {
   "cell_type": "code",
   "execution_count": 17,
   "id": "08ca5049-c0fa-490d-af67-81a9e79e2db3",
   "metadata": {},
   "outputs": [],
   "source": [
    "import numpy as np\n",
    "\n",
    "# Các hằng số\n",
    "a = 6378137.0  # Bán kính Trái Đất theo đường xích đạo (m)\n",
    "f = 1 / 298.257223563  # Độ dẹt của Trái Đất\n",
    "e2 = 2 * f - f ** 2  # Độ lệch tâm bình phương\n",
    "\n",
    "def lla_to_ecef(lat, lon, alt):\n",
    "    lat = np.deg2rad(lat)\n",
    "    lon = np.deg2rad(lon)\n",
    "\n",
    "    N = a / np.sqrt(1 - e2 * np.sin(lat) ** 2)\n",
    "\n",
    "    X = (N + alt) * np.cos(lat) * np.cos(lon)\n",
    "    Y = (N + alt) * np.cos(lat) * np.sin(lon)\n",
    "    Z = (N * (1 - e2) + alt) * np.sin(lat)\n",
    "\n",
    "    return np.array([X, Y, Z])\n",
    "\n",
    "def ecef_to_ned(ecef, ref_lla):\n",
    "    ref_ecef = lla_to_ecef(*ref_lla)\n",
    "    dX = ecef - ref_ecef\n",
    "\n",
    "    lat, lon = np.deg2rad(ref_lla[0]), np.deg2rad(ref_lla[1])\n",
    "    R = np.array([[-np.sin(lat) * np.cos(lon), -np.sin(lat) * np.sin(lon), np.cos(lat)],\n",
    "                  [-np.sin(lon), np.cos(lon), 0],\n",
    "                  [-np.cos(lat) * np.cos(lon), -np.cos(lat) * np.sin(lon), -np.sin(lat)]])\n",
    "\n",
    "    ned = R @ dX\n",
    "    return ned\n",
    "\n",
    "def ned_to_ecef(ned, ref_lla):\n",
    "    ref_ecef = lla_to_ecef(*ref_lla)\n",
    "    lat, lon = np.deg2rad(ref_lla[0]), np.deg2rad(ref_lla[1])\n",
    "\n",
    "    R = np.array([[-np.sin(lat) * np.cos(lon), -np.sin(lat) * np.sin(lon), np.cos(lat)],\n",
    "                  [-np.sin(lon), np.cos(lon), 0],\n",
    "                  [-np.cos(lat) * np.cos(lon), -np.cos(lat) * np.sin(lon), -np.sin(lat)]])\n",
    "\n",
    "    dX = np.linalg.inv(R) @ ned\n",
    "    ecef = ref_ecef + dX\n",
    "\n",
    "    return ecef\n",
    "\n",
    "def ecef_to_lla(ecef):\n",
    "    X, Y, Z = ecef\n",
    "    lon = np.arctan2(Y, X)\n",
    "\n",
    "    p = np.sqrt(X ** 2 + Y ** 2)\n",
    "    lat = np.arctan2(Z, p * (1 - e2))\n",
    "    alt = 0\n",
    "\n",
    "    for _ in range(5):\n",
    "        N = a / np.sqrt(1 - e2 * np.sin(lat) ** 2)\n",
    "        alt = p / np.cos(lat) - N\n",
    "        lat = np.arctan2(Z, p * (1 - e2 * N / (N + alt)))\n",
    "\n",
    "    lat = np.rad2deg(lat)\n",
    "    lon = np.rad2deg(lon)\n",
    "\n",
    "    return np.array([lat, lon, alt])\n",
    "\n",
    "def lla_to_ned(lla, ref_lla):\n",
    "    ecef = lla_to_ecef(*lla)\n",
    "    ned = ecef_to_ned(ecef, ref_lla)\n",
    "    return ned\n",
    "\n",
    "def ned_to_lla(ned, ref_lla):\n",
    "    ecef = ned_to_ecef(ned, ref_lla)\n",
    "    lla = ecef_to_lla(ecef)\n",
    "    return lla"
   ]
  },
  {
   "cell_type": "code",
   "execution_count": 21,
   "id": "1be2af5f-fbdc-4d83-880f-cfac5ce39ebd",
   "metadata": {},
   "outputs": [
    {
     "name": "stdout",
     "output_type": "stream",
     "text": [
      "NED: [-7.74296416e+00 -4.37340039e+00  6.22851312e-06]\n",
      "LLA: [1.08704300e+01 1.06801960e+02 6.22775406e-06]\n"
     ]
    }
   ],
   "source": [
    "# Ví dụ sử dụng\n",
    "\n",
    "# Tọa độ gốc tham chiếu (Latitude, Longitude, Altitude)\n",
    "ref_lla = [10.87050, 106.802, 0.0]  # Một vị trí ở TP.HCM, Việt Nam\n",
    "\n",
    "# Tọa độ cần chuyển đổi (Latitude, Longitude, Altitude)\n",
    "target_lla = [10.87043, 106.80196, 0.0]  # Thêm 10m cao độ\n",
    "\n",
    "# Chuyển từ LLA sang NED\n",
    "ned = lla_to_ned(target_lla, ref_lla)\n",
    "print(\"NED:\", ned)\n",
    "\n",
    "ned[2] = 0\n",
    "\n",
    "# Chuyển ngược từ NED sang LLA\n",
    "lla = ned_to_lla(ned, ref_lla)\n",
    "print(\"LLA:\", lla)"
   ]
  },
  {
   "cell_type": "code",
   "execution_count": null,
   "id": "851ff28b-d684-47e5-8969-a011102144fe",
   "metadata": {},
   "outputs": [],
   "source": []
  }
 ],
 "metadata": {
  "kernelspec": {
   "display_name": "Python 3 (ipykernel)",
   "language": "python",
   "name": "python3"
  },
  "language_info": {
   "codemirror_mode": {
    "name": "ipython",
    "version": 3
   },
   "file_extension": ".py",
   "mimetype": "text/x-python",
   "name": "python",
   "nbconvert_exporter": "python",
   "pygments_lexer": "ipython3",
   "version": "3.12.4"
  }
 },
 "nbformat": 4,
 "nbformat_minor": 5
}
